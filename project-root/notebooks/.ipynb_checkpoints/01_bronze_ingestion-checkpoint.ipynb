{
 "cells": [
  {
   "cell_type": "code",
   "execution_count": 1,
   "id": "8b0f319c-2b5c-4112-bb40-22d6445ecb49",
   "metadata": {},
   "outputs": [
    {
     "name": "stderr",
     "output_type": "stream",
     "text": [
      "WARNING: Using incubator modules: jdk.incubator.vector\n",
      ":: loading settings :: url = jar:file:/home/saraballkoci/miniconda3/envs/data_pipeline/lib/python3.10/site-packages/pyspark/jars/ivy-2.5.3.jar!/org/apache/ivy/core/settings/ivysettings.xml\n",
      "Ivy Default Cache set to: /home/saraballkoci/.ivy2.5.2/cache\n",
      "The jars for the packages stored in: /home/saraballkoci/.ivy2.5.2/jars\n",
      "io.delta#delta-spark_2.13 added as a dependency\n",
      ":: resolving dependencies :: org.apache.spark#spark-submit-parent-e29a5fa7-8d95-45cc-80a2-9c9a7d155135;1.0\n",
      "\tconfs: [default]\n",
      "\tfound io.delta#delta-spark_2.13;4.0.0 in central\n",
      "\tfound io.delta#delta-storage;4.0.0 in central\n",
      "\tfound org.antlr#antlr4-runtime;4.13.1 in central\n",
      ":: resolution report :: resolve 485ms :: artifacts dl 24ms\n",
      "\t:: modules in use:\n",
      "\tio.delta#delta-spark_2.13;4.0.0 from central in [default]\n",
      "\tio.delta#delta-storage;4.0.0 from central in [default]\n",
      "\torg.antlr#antlr4-runtime;4.13.1 from central in [default]\n",
      "\t---------------------------------------------------------------------\n",
      "\t|                  |            modules            ||   artifacts   |\n",
      "\t|       conf       | number| search|dwnlded|evicted|| number|dwnlded|\n",
      "\t---------------------------------------------------------------------\n",
      "\t|      default     |   3   |   0   |   0   |   0   ||   3   |   0   |\n",
      "\t---------------------------------------------------------------------\n",
      ":: retrieving :: org.apache.spark#spark-submit-parent-e29a5fa7-8d95-45cc-80a2-9c9a7d155135\n",
      "\tconfs: [default]\n",
      "\t0 artifacts copied, 3 already retrieved (0kB/59ms)\n",
      "25/06/25 19:19:53 WARN NativeCodeLoader: Unable to load native-hadoop library for your platform... using builtin-java classes where applicable\n",
      "Using Spark's default log4j profile: org/apache/spark/log4j2-defaults.properties\n",
      "Setting default log level to \"WARN\".\n",
      "To adjust logging level use sc.setLogLevel(newLevel). For SparkR, use setLogLevel(newLevel).\n",
      "/home/saraballkoci/miniconda3/envs/data_pipeline/lib/python3.10/site-packages/numpy/_core/getlimits.py:551: UserWarning: Signature b'\\x00\\xd0\\xcc\\xcc\\xcc\\xcc\\xcc\\xcc\\xfb\\xbf\\x00\\x00\\x00\\x00\\x00\\x00' for <class 'numpy.longdouble'> does not match any known type: falling back to type probe function.\n",
      "This warnings indicates broken support for the dtype!\n",
      "  machar = _get_machar(dtype)\n"
     ]
    }
   ],
   "source": [
    "from pyspark.sql import SparkSession\n",
    "from delta import configure_spark_with_delta_pip\n",
    "\n",
    "builder = SparkSession.builder.appName(\"Olist Dataset Ingestion\") \\\n",
    "    .config(\"spark.sql.extensions\", \"io.delta.sql.DeltaSparkSessionExtension\") \\\n",
    "    .config(\"spark.sql.catalog.spark_catalog\", \"org.apache.spark.sql.delta.catalog.DeltaCatalog\")\n",
    "\n",
    "spark = configure_spark_with_delta_pip(builder).getOrCreate()\n"
   ]
  },
  {
   "cell_type": "code",
   "execution_count": 7,
   "id": "ebecf056-a158-4210-979f-329431c98035",
   "metadata": {},
   "outputs": [
    {
     "name": "stderr",
     "output_type": "stream",
     "text": [
      "                                                                                "
     ]
    }
   ],
   "source": [
    "import os\n",
    "\n",
    "data_path = \"/home/saraballkoci/project-root/data/raw_csvs\"\n",
    "\n",
    "orders_df = spark.read.csv(os.path.join(data_path, \"olist_orders_dataset.csv\"), header=True, inferSchema=True)\n",
    "order_items_df = spark.read.csv(os.path.join(data_path, \"olist_order_items_dataset.csv\"), header=True, inferSchema=True)\n",
    "customers_df = spark.read.csv(os.path.join(data_path, \"olist_customers_dataset.csv\"), header=True, inferSchema=True)\n",
    "products_df = spark.read.csv(os.path.join(data_path, \"olist_products_dataset.csv\"), header=True, inferSchema=True)\n",
    "sellers_df = spark.read.csv(os.path.join(data_path, \"olist_sellers_dataset.csv\"), header=True, inferSchema=True)\n",
    "payments_df = spark.read.csv(os.path.join(data_path, \"olist_order_payments_dataset.csv\"), header=True, inferSchema=True)\n",
    "reviews_df = spark.read.csv(os.path.join(data_path, \"olist_order_reviews_dataset.csv\"), header=True, inferSchema=True)\n",
    "geolocations_df = spark.read.csv(os.path.join(data_path, \"olist_geolocation_dataset.csv\"), header=True, inferSchema=True)\n",
    "product_transaltion_df = spark.read.csv(os.path.join(data_path, \"product_category_name_translation.csv\"), header=True, inferSchema=True)\n",
    "\n",
    "\n",
    "\n"
   ]
  },
  {
   "cell_type": "code",
   "execution_count": 9,
   "id": "04986b12-6e54-433f-85fb-281079eaeac6",
   "metadata": {},
   "outputs": [],
   "source": [
    "from pyspark.sql.functions import to_timestamp, year, month, dayofmonth\n",
    "\n",
    "orders_df = orders_df.withColumn(\"order_purchase_timestamp\", to_timestamp(\"order_purchase_timestamp\")) \\\n",
    "    .withColumn(\"year\", year(\"order_purchase_timestamp\")) \\\n",
    "    .withColumn(\"month\", month(\"order_purchase_timestamp\")) \\\n",
    "    .withColumn(\"day\", dayofmonth(\"order_purchase_timestamp\"))\n"
   ]
  },
  {
   "cell_type": "code",
   "execution_count": 10,
   "id": "adfb0589-09eb-4de1-8f56-0d31b2063c25",
   "metadata": {},
   "outputs": [
    {
     "name": "stdout",
     "output_type": "stream",
     "text": [
      "+--------------------+--------------------+------------+------------------------+-------------------+----------------------------+-----------------------------+-----------------------------+----+-----+---+\n",
      "|            order_id|         customer_id|order_status|order_purchase_timestamp|  order_approved_at|order_delivered_carrier_date|order_delivered_customer_date|order_estimated_delivery_date|year|month|day|\n",
      "+--------------------+--------------------+------------+------------------------+-------------------+----------------------------+-----------------------------+-----------------------------+----+-----+---+\n",
      "|e481f51cbdc54678b...|9ef432eb625129730...|   delivered|     2017-10-02 10:56:33|2017-10-02 11:07:15|         2017-10-04 19:55:00|          2017-10-10 21:25:13|          2017-10-18 00:00:00|2017|   10|  2|\n",
      "|53cdb2fc8bc7dce0b...|b0830fb4747a6c6d2...|   delivered|     2018-07-24 20:41:37|2018-07-26 03:24:27|         2018-07-26 14:31:00|          2018-08-07 15:27:45|          2018-08-13 00:00:00|2018|    7| 24|\n",
      "|47770eb9100c2d0c4...|41ce2a54c0b03bf34...|   delivered|     2018-08-08 08:38:49|2018-08-08 08:55:23|         2018-08-08 13:50:00|          2018-08-17 18:06:29|          2018-09-04 00:00:00|2018|    8|  8|\n",
      "|949d5b44dbf5de918...|f88197465ea7920ad...|   delivered|     2017-11-18 19:28:06|2017-11-18 19:45:59|         2017-11-22 13:39:59|          2017-12-02 00:28:42|          2017-12-15 00:00:00|2017|   11| 18|\n",
      "|ad21c59c0840e6cb8...|8ab97904e6daea886...|   delivered|     2018-02-13 21:18:39|2018-02-13 22:20:29|         2018-02-14 19:46:34|          2018-02-16 18:17:02|          2018-02-26 00:00:00|2018|    2| 13|\n",
      "+--------------------+--------------------+------------+------------------------+-------------------+----------------------------+-----------------------------+-----------------------------+----+-----+---+\n",
      "only showing top 5 rows\n"
     ]
    }
   ],
   "source": [
    "orders_df.show(5)\n"
   ]
  },
  {
   "cell_type": "code",
   "execution_count": 11,
   "id": "8fc12234-23d4-4e9b-9483-fcf0e117537c",
   "metadata": {},
   "outputs": [
    {
     "name": "stdout",
     "output_type": "stream",
     "text": [
      "root\n",
      " |-- order_id: string (nullable = true)\n",
      " |-- customer_id: string (nullable = true)\n",
      " |-- order_status: string (nullable = true)\n",
      " |-- order_purchase_timestamp: timestamp (nullable = true)\n",
      " |-- order_approved_at: timestamp (nullable = true)\n",
      " |-- order_delivered_carrier_date: timestamp (nullable = true)\n",
      " |-- order_delivered_customer_date: timestamp (nullable = true)\n",
      " |-- order_estimated_delivery_date: timestamp (nullable = true)\n",
      " |-- year: integer (nullable = true)\n",
      " |-- month: integer (nullable = true)\n",
      " |-- day: integer (nullable = true)\n",
      "\n"
     ]
    }
   ],
   "source": [
    "orders_df.printSchema()\n"
   ]
  },
  {
   "cell_type": "code",
   "execution_count": 12,
   "id": "0ebf11fd-7798-4067-a603-ad0b0aee419c",
   "metadata": {},
   "outputs": [
    {
     "name": "stderr",
     "output_type": "stream",
     "text": [
      "25/06/25 19:33:07 WARN SparkStringUtils: Truncated the string representation of a plan since it was too large. This behavior can be adjusted by setting 'spark.sql.debug.maxToStringFields'.\n",
      "                                                                                "
     ]
    }
   ],
   "source": [
    "orders_df.write.format(\"delta\").mode(\"overwrite\").partitionBy(\"year\", \"month\", \"day\").save(\"/home/saraballkoci/project-root/delta/bronze/orders\")\n",
    "order_items_df.write.format(\"delta\").mode(\"overwrite\").save(\"../delta/bronze/order_items\")\n",
    "customers_df.write.format(\"delta\").mode(\"overwrite\").save(\"../delta/bronze/customers\")\n",
    "products_df.write.format(\"delta\").mode(\"overwrite\").save(\"../delta/bronze/products\")\n",
    "sellers_df.write.format(\"delta\").mode(\"overwrite\").save(\"../delta/bronze/sellers\")\n",
    "payments_df.write.format(\"delta\").mode(\"overwrite\").save(\"../delta/bronze/payments\")\n",
    "reviews_df.write.format(\"delta\").mode(\"overwrite\").save(\"../delta/bronze/reviews\")\n",
    "geolocations_df.write.format(\"delta\").mode(\"overwrite\").save(\"../delta/bronze/geolocations\")\n",
    "product_transaltion_df.write.format(\"delta\").mode(\"overwrite\").save(\"../delta/bronze/product_translations\")\n",
    "\n"
   ]
  },
  {
   "cell_type": "code",
   "execution_count": 14,
   "id": "adbd9129-11ed-4de1-8d24-da549d802efd",
   "metadata": {},
   "outputs": [
    {
     "name": "stderr",
     "output_type": "stream",
     "text": [
      "                                                                                "
     ]
    }
   ],
   "source": [
    "orders_df.write.format(\"delta\").mode(\"overwrite\").partitionBy(\"year\", \"month\", \"day\").save(\"../project-root/delta/bronze/orders\")\n"
   ]
  },
  {
   "cell_type": "code",
   "execution_count": 15,
   "id": "7910e748-7eec-4278-926c-3ecf78146e9b",
   "metadata": {},
   "outputs": [
    {
     "name": "stderr",
     "output_type": "stream",
     "text": [
      "                                                                                "
     ]
    }
   ],
   "source": [
    "product_transaltion_df.write.format(\"delta\").mode(\"overwrite\").save(\"../delta/bronze/product_translations\")\n"
   ]
  }
 ],
 "metadata": {
  "kernelspec": {
   "display_name": "Python (data_pipeline)",
   "language": "python",
   "name": "data_pipeline"
  },
  "language_info": {
   "codemirror_mode": {
    "name": "ipython",
    "version": 3
   },
   "file_extension": ".py",
   "mimetype": "text/x-python",
   "name": "python",
   "nbconvert_exporter": "python",
   "pygments_lexer": "ipython3",
   "version": "3.10.18"
  }
 },
 "nbformat": 4,
 "nbformat_minor": 5
}
