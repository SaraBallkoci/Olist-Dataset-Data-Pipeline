{
 "cells": [
  {
   "cell_type": "code",
   "execution_count": 1,
   "id": "aecddd7b-d408-4ff5-ab3b-0bf8f0a91dc5",
   "metadata": {},
   "outputs": [
    {
     "name": "stderr",
     "output_type": "stream",
     "text": [
      "WARNING: Using incubator modules: jdk.incubator.vector\n",
      ":: loading settings :: url = jar:file:/home/saraballkoci/miniconda3/envs/data_pipeline/lib/python3.10/site-packages/pyspark/jars/ivy-2.5.3.jar!/org/apache/ivy/core/settings/ivysettings.xml\n",
      "Ivy Default Cache set to: /home/saraballkoci/.ivy2.5.2/cache\n",
      "The jars for the packages stored in: /home/saraballkoci/.ivy2.5.2/jars\n",
      "io.delta#delta-spark_2.13 added as a dependency\n",
      ":: resolving dependencies :: org.apache.spark#spark-submit-parent-94827cc5-eab4-4eee-8db4-d9d5be72068e;1.0\n",
      "\tconfs: [default]\n",
      "\tfound io.delta#delta-spark_2.13;4.0.0 in central\n",
      "\tfound io.delta#delta-storage;4.0.0 in central\n",
      "\tfound org.antlr#antlr4-runtime;4.13.1 in central\n",
      ":: resolution report :: resolve 401ms :: artifacts dl 18ms\n",
      "\t:: modules in use:\n",
      "\tio.delta#delta-spark_2.13;4.0.0 from central in [default]\n",
      "\tio.delta#delta-storage;4.0.0 from central in [default]\n",
      "\torg.antlr#antlr4-runtime;4.13.1 from central in [default]\n",
      "\t---------------------------------------------------------------------\n",
      "\t|                  |            modules            ||   artifacts   |\n",
      "\t|       conf       | number| search|dwnlded|evicted|| number|dwnlded|\n",
      "\t---------------------------------------------------------------------\n",
      "\t|      default     |   3   |   0   |   0   |   0   ||   3   |   0   |\n",
      "\t---------------------------------------------------------------------\n",
      ":: retrieving :: org.apache.spark#spark-submit-parent-94827cc5-eab4-4eee-8db4-d9d5be72068e\n",
      "\tconfs: [default]\n",
      "\t0 artifacts copied, 3 already retrieved (0kB/33ms)\n",
      "25/06/26 21:27:22 WARN NativeCodeLoader: Unable to load native-hadoop library for your platform... using builtin-java classes where applicable\n",
      "Using Spark's default log4j profile: org/apache/spark/log4j2-defaults.properties\n",
      "Setting default log level to \"WARN\".\n",
      "To adjust logging level use sc.setLogLevel(newLevel). For SparkR, use setLogLevel(newLevel).\n",
      "/home/saraballkoci/miniconda3/envs/data_pipeline/lib/python3.10/site-packages/numpy/_core/getlimits.py:551: UserWarning: Signature b'\\x00\\xd0\\xcc\\xcc\\xcc\\xcc\\xcc\\xcc\\xfb\\xbf\\x00\\x00\\x00\\x00\\x00\\x00' for <class 'numpy.longdouble'> does not match any known type: falling back to type probe function.\n",
      "This warnings indicates broken support for the dtype!\n",
      "  machar = _get_machar(dtype)\n"
     ]
    }
   ],
   "source": [
    "from pyspark.sql import SparkSession\n",
    "from delta import configure_spark_with_delta_pip\n",
    "\n",
    "builder = SparkSession.builder \\\n",
    "    .appName(\"Olist Analytics\") \\\n",
    "    .config(\"spark.sql.extensions\", \"io.delta.sql.DeltaSparkSessionExtension\") \\\n",
    "    .config(\"spark.sql.catalog.spark_catalog\", \"org.apache.spark.sql.delta.catalog.DeltaCatalog\")\n",
    "\n",
    "spark = configure_spark_with_delta_pip(builder).getOrCreate()\n"
   ]
  },
  {
   "cell_type": "code",
   "execution_count": 2,
   "id": "b9326393-ad23-4905-b106-e0b2ef79f928",
   "metadata": {},
   "outputs": [],
   "source": [
    "from pyspark.sql.functions import sum, to_timestamp, year, month, dayofmonth\n",
    "from pyspark.sql.window import Window\n",
    "\n",
    "\n",
    "silver_df = spark.read.format(\"delta\").load(\"../delta/silver/orders_enriched\")\n",
    "\n",
    "\n",
    "window_spec = Window.partitionBy(\"customer_id\").orderBy(\"order_purchase_timestamp\").rowsBetween(Window.unboundedPreceding, Window.currentRow)\n",
    "\n",
    "cumulative_sales = silver_df \\\n",
    "    .withColumn(\"cumulative_total\",sum(\"total_price\").over(window_spec)) \\\n",
    "    .withColumn(\"year\", year(\"order_purchase_timestamp\")) \\\n",
    "    .withColumn(\"month\", month(\"order_purchase_timestamp\")) \\\n",
    "    .withColumn(\"day\", dayofmonth(\"order_purchase_timestamp\"))\n"
   ]
  },
  {
   "cell_type": "code",
   "execution_count": 3,
   "id": "58e5b84a-e77e-41b4-b320-c29cbb7485e4",
   "metadata": {},
   "outputs": [],
   "source": [
    "from pyspark.sql.functions import sum,avg, to_timestamp, year, month, dayofmonth\n",
    "from pyspark.sql.window import Window\n",
    "\n",
    "rolling_window = Window.partitionBy(\"product_category_name\") \\\n",
    "                       .orderBy(\"order_purchase_timestamp\") \\\n",
    "                       .rowsBetween(-2, 0)\n",
    "\n",
    "rolling_avg_delivery = silver_df \\\n",
    "    .withColumn(\"rolling_avg_delivery_time\", avg(\"delivery_time\").over(rolling_window)) \\\n",
    "    .withColumn(\"year\", year(\"order_purchase_timestamp\")) \\\n",
    "    .withColumn(\"month\", month(\"order_purchase_timestamp\")) \\\n",
    "    .withColumn(\"day\", dayofmonth(\"order_purchase_timestamp\"))\n"
   ]
  },
  {
   "cell_type": "code",
   "execution_count": 8,
   "id": "c29483d4-035b-4fdd-8bdd-e2013b9edde7",
   "metadata": {},
   "outputs": [],
   "source": [
    "from pyspark.sql.functions import year, month, dayofmonth, sum\n",
    "\n",
    "# First, add year/month/day BEFORE aggregating\n",
    "silver_df = silver_df.withColumn(\"year\", year(\"order_purchase_timestamp\")) \\\n",
    "                     .withColumn(\"month\", month(\"order_purchase_timestamp\")) \\\n",
    "                     .withColumn(\"day\", dayofmonth(\"order_purchase_timestamp\"))\n",
    "\n",
    "# Then do the groupBy using those columns\n",
    "kpi_summary = silver_df.groupBy(\n",
    "    \"product_category_name\", \"seller_id\", \"customer_state\", \"year\", \"month\", \"day\"\n",
    ").agg(sum(\"total_price\").alias(\"total_sales\"),\n",
    "    avg(\"delivery_time\").alias(\"avg_delivery_time\"),\n",
    "    count(\"order_id\").alias(\"order_count\")\n",
    ")\n"
   ]
  },
  {
   "cell_type": "code",
   "execution_count": 9,
   "id": "e4aef463-acf1-42e1-80db-cafff2e0aecc",
   "metadata": {},
   "outputs": [
    {
     "name": "stderr",
     "output_type": "stream",
     "text": [
      "                                                                                "
     ]
    }
   ],
   "source": [
    "from pyspark.sql.functions import sum,avg, to_timestamp, year, month, dayofmonth\n",
    "\n",
    "\n",
    "\n",
    "cumulative_sales.write.format(\"delta\").mode(\"overwrite\").partitionBy(\"year\", \"month\", \"day\").save(\"../delta/gold/cumulative_sales\")\n",
    "\n",
    "\n",
    "rolling_avg_delivery.write.format(\"delta\").mode(\"overwrite\").partitionBy(\"year\", \"month\", \"day\").save(\"../delta/gold/rolling_avg_delivery\")\n",
    "\n",
    "\n",
    "kpi_summary.write.format(\"delta\").mode(\"overwrite\").partitionBy(\"year\", \"month\", \"day\").save(\"../delta/gold/kpi_summary\")\n"
   ]
  },
  {
   "cell_type": "code",
   "execution_count": 10,
   "id": "04b24d92-94de-4f64-a9a8-bf1d0a8fe196",
   "metadata": {},
   "outputs": [],
   "source": [
    "\n",
    "cumulative_sales = spark.read.format(\"delta\").load(\"../delta/gold/cumulative_sales\")\n",
    "rolling_avg_delivery = spark.read.format(\"delta\").load(\"../delta/gold/rolling_avg_delivery\")\n",
    "kpi_summary = spark.read.format(\"delta\").load(\"../delta/gold/kpi_summary\")\n"
   ]
  },
  {
   "cell_type": "code",
   "execution_count": 11,
   "id": "552b3f24-fb17-409c-83c0-72a4bd79ac80",
   "metadata": {},
   "outputs": [],
   "source": [
    "\n",
    "cumulative_sales.createOrReplaceTempView(\"cumulative_sales\")\n",
    "rolling_avg_delivery.createOrReplaceTempView(\"rolling_avg_delivery\")\n",
    "kpi_summary.createOrReplaceTempView(\"kpi_summary\")\n"
   ]
  },
  {
   "cell_type": "code",
   "execution_count": 12,
   "id": "5ba9e624-d698-44e3-bb00-9b65105617e5",
   "metadata": {},
   "outputs": [
    {
     "name": "stderr",
     "output_type": "stream",
     "text": [
      "                                                                                "
     ]
    },
    {
     "name": "stdout",
     "output_type": "stream",
     "text": [
      "+---------------------------------+-----------+\n",
      "|product_category_name            |total_sales|\n",
      "+---------------------------------+-----------+\n",
      "|relogios_presentes               |171906.7   |\n",
      "|beleza_saude                     |146353.44  |\n",
      "|cama_mesa_banho                  |116902.36  |\n",
      "|utilidades_domesticas            |102508.33  |\n",
      "|automotivo                       |87831.31   |\n",
      "|esporte_lazer                    |85452.98   |\n",
      "|moveis_decoracao                 |79336.71   |\n",
      "|informatica_acessorios           |75848.5    |\n",
      "|ferramentas_jardim               |48234.9    |\n",
      "|bebes                            |47162.35   |\n",
      "|telefonia                        |42180.17   |\n",
      "|brinquedos                       |41479.78   |\n",
      "|cool_stuff                       |40750.48   |\n",
      "|moveis_escritorio                |37010.85   |\n",
      "|perfumaria                       |36607.99   |\n",
      "|pet_shop                         |33189.95   |\n",
      "|construcao_ferramentas_construcao|30726.47   |\n",
      "|eletronicos                      |22457.77   |\n",
      "|papelaria                        |22216.36   |\n",
      "|pcs                              |22210.39   |\n",
      "+---------------------------------+-----------+\n",
      "only showing top 20 rows\n"
     ]
    },
    {
     "name": "stderr",
     "output_type": "stream",
     "text": [
      "                                                                                "
     ]
    },
    {
     "name": "stdout",
     "output_type": "stream",
     "text": [
      "+--------------------------------+-----------------+\n",
      "|seller_id                       |avg_delivery_time|\n",
      "+--------------------------------+-----------------+\n",
      "|734def04b237117a09321dd6d8f3f2a2|1.0              |\n",
      "|cf654707ed6a99f112c7ec3d6f314b8b|1.0              |\n",
      "|655220df33262c7e0c4949a147366f94|1.0              |\n",
      "|ae45df84722b1d15c5f32b23a095746c|1.0              |\n",
      "|b2a6d334e2833acea353624840e25a0e|1.0              |\n",
      "|6561d6bf844e464b4019442692b40e02|1.0              |\n",
      "|30a81d8cf85fb2ada1b1b094c9583a95|1.5              |\n",
      "|0ddefe3c7a032b91f4e25b9c3a08fca1|2.0              |\n",
      "|70126eecc6aa1274392a1743866e9678|2.0              |\n",
      "|099095b050cfe8eb1ddff5317587e96e|2.0              |\n",
      "|e5cbe890e679490127e9a390b46bbd20|2.0              |\n",
      "|a06c8ff043abea0528ee44171e2140a2|2.0              |\n",
      "|5f1dc28029d2c244352a68107ec2b542|2.0              |\n",
      "|c89cf7c468a48af70aada384e722f9e2|2.0              |\n",
      "|e88165a185134e13fdfc85d4fa654db8|2.0              |\n",
      "|d9e8c084b68fe958861d8f2c21202e6b|2.0              |\n",
      "|26562f211dd1364af2a8596dc945e8ae|2.0              |\n",
      "|365e4bce19bda0082c3d15d83fdb8bcd|2.0              |\n",
      "|20d83f3ef0e6925fd74bfd59170babf7|2.0              |\n",
      "|334cab711dee080b079fa5779b584783|2.0              |\n",
      "+--------------------------------+-----------------+\n",
      "only showing top 20 rows\n"
     ]
    },
    {
     "name": "stderr",
     "output_type": "stream",
     "text": [
      "[Stage 39:=================================================>        (6 + 1) / 7]"
     ]
    },
    {
     "name": "stdout",
     "output_type": "stream",
     "text": [
      "+--------------+------------+\n",
      "|customer_state|total_orders|\n",
      "+--------------+------------+\n",
      "|SP            |4386        |\n",
      "|RJ            |1216        |\n",
      "|MG            |1098        |\n",
      "|RS            |456         |\n",
      "|PR            |440         |\n",
      "|BA            |397         |\n",
      "|SC            |335         |\n",
      "|DF            |231         |\n",
      "|ES            |217         |\n",
      "|GO            |208         |\n",
      "|PE            |206         |\n",
      "|CE            |139         |\n",
      "|MT            |122         |\n",
      "|PA            |115         |\n",
      "|MS            |88          |\n",
      "|PB            |69          |\n",
      "|PI            |64          |\n",
      "|RN            |63          |\n",
      "|MA            |53          |\n",
      "|SE            |43          |\n",
      "+--------------+------------+\n",
      "only showing top 20 rows\n"
     ]
    },
    {
     "name": "stderr",
     "output_type": "stream",
     "text": [
      "                                                                                "
     ]
    }
   ],
   "source": [
    "spark.sql(\"\"\"\n",
    "    SELECT product_category_name, ROUND(SUM(total_sales), 2) AS total_sales\n",
    "    FROM kpi_summary\n",
    "    GROUP BY product_category_name\n",
    "    ORDER BY total_sales DESC\n",
    "\"\"\").show(truncate=False)\n",
    "\n",
    "spark.sql(\"\"\"\n",
    "    SELECT seller_id, ROUND(AVG(avg_delivery_time), 2) AS avg_delivery_time\n",
    "    FROM kpi_summary\n",
    "    GROUP BY seller_id\n",
    "    ORDER BY avg_delivery_time ASC\n",
    "\"\"\").show(truncate=False)\n",
    "\n",
    "\n",
    "spark.sql(\"\"\"\n",
    "    SELECT customer_state, SUM(order_count) AS total_orders\n",
    "    FROM kpi_summary\n",
    "    GROUP BY customer_state\n",
    "    ORDER BY total_orders DESC\n",
    "\"\"\").show(truncate=False)\n"
   ]
  },
  {
   "cell_type": "code",
   "execution_count": null,
   "id": "88ef8f8e-7f2f-433e-bd03-0e2c7c63734a",
   "metadata": {},
   "outputs": [],
   "source": []
  }
 ],
 "metadata": {
  "kernelspec": {
   "display_name": "Python (data_pipeline)",
   "language": "python",
   "name": "data_pipeline"
  },
  "language_info": {
   "codemirror_mode": {
    "name": "ipython",
    "version": 3
   },
   "file_extension": ".py",
   "mimetype": "text/x-python",
   "name": "python",
   "nbconvert_exporter": "python",
   "pygments_lexer": "ipython3",
   "version": "3.10.18"
  }
 },
 "nbformat": 4,
 "nbformat_minor": 5
}
