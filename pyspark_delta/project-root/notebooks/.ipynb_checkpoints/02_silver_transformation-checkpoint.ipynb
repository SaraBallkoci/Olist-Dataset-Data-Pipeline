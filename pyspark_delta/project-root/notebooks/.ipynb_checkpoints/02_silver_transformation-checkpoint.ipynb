{
 "cells": [
  {
   "cell_type": "code",
   "execution_count": 2,
   "id": "c3dc8030-70d1-4ca6-b0f9-518980901f21",
   "metadata": {},
   "outputs": [
    {
     "name": "stderr",
     "output_type": "stream",
     "text": [
      "WARNING: Using incubator modules: jdk.incubator.vector\n",
      ":: loading settings :: url = jar:file:/home/saraballkoci/miniconda3/envs/data_pipeline/lib/python3.10/site-packages/pyspark/jars/ivy-2.5.3.jar!/org/apache/ivy/core/settings/ivysettings.xml\n",
      "Ivy Default Cache set to: /home/saraballkoci/.ivy2.5.2/cache\n",
      "The jars for the packages stored in: /home/saraballkoci/.ivy2.5.2/jars\n",
      "io.delta#delta-spark_2.13 added as a dependency\n",
      ":: resolving dependencies :: org.apache.spark#spark-submit-parent-b9b0d512-2177-4960-adde-a9775d6e1e76;1.0\n",
      "\tconfs: [default]\n",
      "\tfound io.delta#delta-spark_2.13;4.0.0 in central\n",
      "\tfound io.delta#delta-storage;4.0.0 in central\n",
      "\tfound org.antlr#antlr4-runtime;4.13.1 in central\n",
      ":: resolution report :: resolve 419ms :: artifacts dl 22ms\n",
      "\t:: modules in use:\n",
      "\tio.delta#delta-spark_2.13;4.0.0 from central in [default]\n",
      "\tio.delta#delta-storage;4.0.0 from central in [default]\n",
      "\torg.antlr#antlr4-runtime;4.13.1 from central in [default]\n",
      "\t---------------------------------------------------------------------\n",
      "\t|                  |            modules            ||   artifacts   |\n",
      "\t|       conf       | number| search|dwnlded|evicted|| number|dwnlded|\n",
      "\t---------------------------------------------------------------------\n",
      "\t|      default     |   3   |   0   |   0   |   0   ||   3   |   0   |\n",
      "\t---------------------------------------------------------------------\n",
      ":: retrieving :: org.apache.spark#spark-submit-parent-b9b0d512-2177-4960-adde-a9775d6e1e76\n",
      "\tconfs: [default]\n",
      "\t0 artifacts copied, 3 already retrieved (0kB/45ms)\n",
      "25/06/26 19:56:22 WARN NativeCodeLoader: Unable to load native-hadoop library for your platform... using builtin-java classes where applicable\n",
      "Using Spark's default log4j profile: org/apache/spark/log4j2-defaults.properties\n",
      "Setting default log level to \"WARN\".\n",
      "To adjust logging level use sc.setLogLevel(newLevel). For SparkR, use setLogLevel(newLevel).\n",
      "/home/saraballkoci/miniconda3/envs/data_pipeline/lib/python3.10/site-packages/numpy/_core/getlimits.py:551: UserWarning: Signature b'\\x00\\xd0\\xcc\\xcc\\xcc\\xcc\\xcc\\xcc\\xfb\\xbf\\x00\\x00\\x00\\x00\\x00\\x00' for <class 'numpy.longdouble'> does not match any known type: falling back to type probe function.\n",
      "This warnings indicates broken support for the dtype!\n",
      "  machar = _get_machar(dtype)\n"
     ]
    }
   ],
   "source": [
    "from pyspark.sql import SparkSession\n",
    "from delta import configure_spark_with_delta_pip\n",
    "\n",
    "builder = SparkSession.builder \\\n",
    "    .appName(\"Olist Silver Layer\") \\\n",
    "    .config(\"spark.sql.extensions\", \"io.delta.sql.DeltaSparkSessionExtension\") \\\n",
    "    .config(\"spark.sql.catalog.spark_catalog\", \"org.apache.spark.sql.delta.catalog.DeltaCatalog\")\n",
    "\n",
    "spark = configure_spark_with_delta_pip(builder).getOrCreate()"
   ]
  },
  {
   "cell_type": "code",
   "execution_count": 3,
   "id": "36b7316b-eccb-4655-9705-cbcfdb0a4650",
   "metadata": {},
   "outputs": [],
   "source": [
    "orders = spark.read.format(\"delta\").load(\"../delta/bronze/orders\")\n",
    "order_items = spark.read.format(\"delta\").load(\"../delta/bronze/order_items\")\n",
    "customers = spark.read.format(\"delta\").load(\"../delta/bronze/customers\")\n",
    "products = spark.read.format(\"delta\").load(\"../delta/bronze/products\")\n",
    "sellers = spark.read.format(\"delta\").load(\"../delta/bronze/sellers\")\n",
    "payments = spark.read.format(\"delta\").load(\"../delta/bronze/payments\")\n",
    "reviews = spark.read.format(\"delta\").load(\"../delta/bronze/reviews\")\n",
    "geolocations=spark.read.format(\"delta\").load(\"../delta/bronze/geolocations\")\n",
    "product_translation=spark.read.format(\"delta\").load(\"../delta/bronze/product_translations\")"
   ]
  },
  {
   "cell_type": "code",
   "execution_count": 4,
   "id": "09d9097a-a8a4-4b9e-b05d-68f6737e12aa",
   "metadata": {},
   "outputs": [
    {
     "name": "stderr",
     "output_type": "stream",
     "text": [
      "25/06/26 19:57:50 WARN SparkStringUtils: Truncated the string representation of a plan since it was too large. This behavior can be adjusted by setting 'spark.sql.debug.maxToStringFields'.\n",
      "                                                                                "
     ]
    },
    {
     "name": "stdout",
     "output_type": "stream",
     "text": [
      "+--------------------+--------------------+------------+------------------------+-------------------+----------------------------+-----------------------------+-----------------------------+----+-----+---+\n",
      "|            order_id|         customer_id|order_status|order_purchase_timestamp|  order_approved_at|order_delivered_carrier_date|order_delivered_customer_date|order_estimated_delivery_date|year|month|day|\n",
      "+--------------------+--------------------+------------+------------------------+-------------------+----------------------------+-----------------------------+-----------------------------+----+-----+---+\n",
      "|0efd0bc268d34da3f...|95446917717bb58d5...|     shipped|     2016-10-07 15:53:31|2016-10-07 16:12:22|         2016-10-11 16:12:23|                         NULL|          2016-12-13 00:00:00|2016|   10|  7|\n",
      "|5c973d2b4652e1dec...|8a863458d761a9b40...|   delivered|     2016-10-07 10:45:48|2016-10-07 12:13:51|         2016-10-11 12:13:52|          2016-10-14 12:13:52|          2016-11-25 00:00:00|2016|   10|  7|\n",
      "|45973912e49086680...|912f108a7026f25f9...|     shipped|     2016-10-07 22:45:28|2016-10-07 22:58:37|         2016-10-26 13:18:16|                         NULL|          2016-12-01 00:00:00|2016|   10|  7|\n",
      "|6ef172eee30cfbfa0...|506a9747164ba320c...|   delivered|     2016-10-07 11:37:12|2016-10-08 03:51:24|         2016-10-12 03:51:25|          2016-10-15 03:51:25|          2016-11-29 00:00:00|2016|   10|  7|\n",
      "|032cf17f7a713287e...|7ec44117b7760d297...|    canceled|     2016-10-07 12:21:07|               NULL|                        NULL|                         NULL|          2016-11-17 00:00:00|2016|   10|  7|\n",
      "+--------------------+--------------------+------------+------------------------+-------------------+----------------------------+-----------------------------+-----------------------------+----+-----+---+\n",
      "only showing top 5 rows\n"
     ]
    },
    {
     "name": "stderr",
     "output_type": "stream",
     "text": [
      "                                                                                "
     ]
    },
    {
     "name": "stdout",
     "output_type": "stream",
     "text": [
      "+--------------------+--------------------+------------------------+--------------------+--------------+\n",
      "|         customer_id|  customer_unique_id|customer_zip_code_prefix|       customer_city|customer_state|\n",
      "+--------------------+--------------------+------------------------+--------------------+--------------+\n",
      "|06b8999e2fba1a1fb...|861eff4711a542e4b...|                   14409|              franca|            SP|\n",
      "|18955e83d337fd6b2...|290c77bc529b7ac93...|                    9790|sao bernardo do c...|            SP|\n",
      "|4e7b3e00288586ebd...|060e732b5b29e8181...|                    1151|           sao paulo|            SP|\n",
      "|b2b6027bc5c5109e5...|259dac757896d24d7...|                    8775|     mogi das cruzes|            SP|\n",
      "|4f2d8ab171c80ec83...|345ecd01c38d18a90...|                   13056|            campinas|            SP|\n",
      "+--------------------+--------------------+------------------------+--------------------+--------------+\n",
      "only showing top 5 rows\n"
     ]
    }
   ],
   "source": [
    "orders.show(5)\n",
    "customers.show(5)"
   ]
  },
  {
   "cell_type": "code",
   "execution_count": 7,
   "id": "f0f72126-29ed-454a-ad0f-c07e00b22c35",
   "metadata": {},
   "outputs": [],
   "source": [
    "orders = orders.dropna().dropDuplicates()\n",
    "customers = customers.dropna().dropDuplicates()\n",
    "order_items = order_items.dropna().dropDuplicates()\n",
    "products = products.dropna().dropDuplicates()\n",
    "sellers = sellers.dropna().dropDuplicates()\n",
    "payments = payments.dropna().dropDuplicates()\n",
    "reviews = reviews.dropna().dropDuplicates()\n",
    "geolocations = geolocations.dropna().dropDuplicates()\n",
    "product_translation = product_translation.dropna().dropDuplicates()"
   ]
  },
  {
   "cell_type": "code",
   "execution_count": 12,
   "id": "2264e1d9-8990-4fc2-a113-23162a79625d",
   "metadata": {},
   "outputs": [],
   "source": [
    "from pyspark.sql.functions import to_timestamp, year, month, dayofmonth\n",
    "from pyspark.sql.functions import sum, col, datediff\n",
    "\n",
    "\n",
    "\n",
    "# Ensure timestamp is properly cast\n",
    "orders = orders.withColumn(\"order_purchase_timestamp\", to_timestamp(\"order_purchase_timestamp\"))\n",
    "\n",
    "# Step 1: Join orders with order_items\n",
    "silver_df = orders.join(order_items, on=\"order_id\", how=\"inner\")\n",
    "\n",
    "# Step 2: Join with products\n",
    "silver_df = silver_df.join(products, on=\"product_id\", how=\"left\")\n",
    "\n",
    "# Step 3: Join with sellers\n",
    "silver_df = silver_df.join(sellers, on=\"seller_id\", how=\"left\")\n",
    "\n",
    "# Step 4: Join with customers\n",
    "silver_df = silver_df.join(customers, on=\"customer_id\", how=\"left\")\n",
    "\n",
    "# Step 5: Aggregate and join payments\n",
    "payments_agg = payments.groupBy(\"order_id\").agg(sum(\"payment_installments\").alias(\"payment_count\")\n",
    ")\n",
    "silver_df = silver_df.join(payments_agg, on=\"order_id\", how=\"left\")\n",
    "\n",
    "# Step 6: Join reviews (optional)\n",
    "silver_df = silver_df.join(reviews.select(\"order_id\", \"review_score\"), on=\"order_id\", how=\"left\")\n",
    "\n",
    "# Step 7: Add calculated columns\n",
    "silver_df = silver_df \\\n",
    "    .withColumn(\"total_price\", col(\"price\") + col(\"freight_value\")) \\\n",
    "    .withColumn(\"profit_margin\", col(\"price\") - col(\"freight_value\")) \\\n",
    "    .withColumn(\"delivery_time\", datediff(\"order_delivered_customer_date\", \"order_purchase_timestamp\")) \\\n",
    "    .withColumn(\"year\", year(\"order_purchase_timestamp\")) \\\n",
    "    .withColumn(\"month\", month(\"order_purchase_timestamp\")) \\\n",
    "    .withColumn(\"day\", dayofmonth(\"order_purchase_timestamp\"))"
   ]
  },
  {
   "cell_type": "code",
   "execution_count": 13,
   "id": "f8444944-1a23-4941-990d-3997844a6e8d",
   "metadata": {},
   "outputs": [
    {
     "name": "stderr",
     "output_type": "stream",
     "text": [
      "                                                                                "
     ]
    }
   ],
   "source": [
    "# Step 8: Clean data\n",
    "silver_df = silver_df.dropna().dropDuplicates()\n",
    "\n",
    "# Step 9: Write to Delta (Silver Layer)\n",
    "silver_df.write.format(\"delta\").mode(\"overwrite\") \\\n",
    "    .partitionBy(\"year\", \"month\", \"day\") \\\n",
    "    .save(\"../delta/silver/orders_enriched\")\n"
   ]
  },
  {
   "cell_type": "code",
   "execution_count": 14,
   "id": "1b2fe965-81bd-4812-b964-8d4a03efe94a",
   "metadata": {},
   "outputs": [
    {
     "name": "stdout",
     "output_type": "stream",
     "text": [
      "root\n",
      " |-- order_id: string (nullable = true)\n",
      " |-- customer_id: string (nullable = true)\n",
      " |-- seller_id: string (nullable = true)\n",
      " |-- product_id: string (nullable = true)\n",
      " |-- order_status: string (nullable = true)\n",
      " |-- order_purchase_timestamp: timestamp (nullable = true)\n",
      " |-- order_approved_at: timestamp (nullable = true)\n",
      " |-- order_delivered_carrier_date: timestamp (nullable = true)\n",
      " |-- order_delivered_customer_date: timestamp (nullable = true)\n",
      " |-- order_estimated_delivery_date: timestamp (nullable = true)\n",
      " |-- year: integer (nullable = true)\n",
      " |-- month: integer (nullable = true)\n",
      " |-- day: integer (nullable = true)\n",
      " |-- order_item_id: integer (nullable = true)\n",
      " |-- shipping_limit_date: timestamp (nullable = true)\n",
      " |-- price: double (nullable = true)\n",
      " |-- freight_value: double (nullable = true)\n",
      " |-- product_category_name: string (nullable = true)\n",
      " |-- product_name_lenght: integer (nullable = true)\n",
      " |-- product_description_lenght: integer (nullable = true)\n",
      " |-- product_photos_qty: integer (nullable = true)\n",
      " |-- product_weight_g: integer (nullable = true)\n",
      " |-- product_length_cm: integer (nullable = true)\n",
      " |-- product_height_cm: integer (nullable = true)\n",
      " |-- product_width_cm: integer (nullable = true)\n",
      " |-- seller_zip_code_prefix: integer (nullable = true)\n",
      " |-- seller_city: string (nullable = true)\n",
      " |-- seller_state: string (nullable = true)\n",
      " |-- customer_unique_id: string (nullable = true)\n",
      " |-- customer_zip_code_prefix: integer (nullable = true)\n",
      " |-- customer_city: string (nullable = true)\n",
      " |-- customer_state: string (nullable = true)\n",
      " |-- payment_count: long (nullable = true)\n",
      " |-- review_score: string (nullable = true)\n",
      " |-- total_price: double (nullable = true)\n",
      " |-- profit_margin: double (nullable = true)\n",
      " |-- delivery_time: integer (nullable = true)\n",
      "\n"
     ]
    }
   ],
   "source": [
    "silver_df.printSchema()"
   ]
  },
  {
   "cell_type": "code",
   "execution_count": 18,
   "id": "49c75c0e-2c7e-4546-bef4-dd3dc20f4c1a",
   "metadata": {},
   "outputs": [
    {
     "name": "stderr",
     "output_type": "stream",
     "text": [
      "[Stage 149:==========================================>              (3 + 1) / 4]"
     ]
    },
    {
     "name": "stdout",
     "output_type": "stream",
     "text": [
      "+--------------------------------+--------------------------------+--------------------------------+--------------------------------+------------+------------------------+-------------------+----------------------------+-----------------------------+-----------------------------+----+-----+---+-------------+-------------------+-----+-------------+-----------------------------+-------------------+--------------------------+------------------+----------------+-----------------+-----------------+----------------+----------------------+----------------+------------+--------------------------------+------------------------+-----------------------+--------------+-------------+------------+-----------+-------------------+-------------+\n",
      "|order_id                        |customer_id                     |seller_id                       |product_id                      |order_status|order_purchase_timestamp|order_approved_at  |order_delivered_carrier_date|order_delivered_customer_date|order_estimated_delivery_date|year|month|day|order_item_id|shipping_limit_date|price|freight_value|product_category_name        |product_name_lenght|product_description_lenght|product_photos_qty|product_weight_g|product_length_cm|product_height_cm|product_width_cm|seller_zip_code_prefix|seller_city     |seller_state|customer_unique_id              |customer_zip_code_prefix|customer_city          |customer_state|payment_count|review_score|total_price|profit_margin      |delivery_time|\n",
      "+--------------------------------+--------------------------------+--------------------------------+--------------------------------+------------+------------------------+-------------------+----------------------------+-----------------------------+-----------------------------+----+-----+---+-------------+-------------------+-----+-------------+-----------------------------+-------------------+--------------------------+------------------+----------------+-----------------+-----------------+----------------+----------------------+----------------+------------+--------------------------------+------------------------+-----------------------+--------------+-------------+------------+-----------+-------------------+-------------+\n",
      "|873c916c2bff3ea61a59f7bf7f0879c2|83c25d4a789ac9054fa86a6e17284455|53243585a1d6dc2643021fd1853d8905|e7cc48a9daff5436f63d3aad9426f28b|delivered   |2018-08-06 13:35:57     |2018-08-06 13:45:19|2018-08-08 15:01:00         |2018-08-14 20:08:33          |2018-08-24 00:00:00          |2018|8    |6  |2            |2018-08-10 13:45:19|170.0|21.46        |telefonia                    |58                 |1500                      |4                 |700             |32               |15               |21              |42738                 |lauro de freitas|BA          |3d7140f7eb346da3202a5f121dc31f94|71060                   |brasilia               |DF            |1            |1           |191.46     |148.54             |8            |\n",
      "|873c916c2bff3ea61a59f7bf7f0879c2|83c25d4a789ac9054fa86a6e17284455|53243585a1d6dc2643021fd1853d8905|e7cc48a9daff5436f63d3aad9426f28b|delivered   |2018-08-06 13:35:57     |2018-08-06 13:45:19|2018-08-08 15:01:00         |2018-08-14 20:08:33          |2018-08-24 00:00:00          |2018|8    |6  |1            |2018-08-10 13:45:19|170.0|21.46        |telefonia                    |58                 |1500                      |4                 |700             |32               |15               |21              |42738                 |lauro de freitas|BA          |3d7140f7eb346da3202a5f121dc31f94|71060                   |brasilia               |DF            |1            |1           |191.46     |148.54             |8            |\n",
      "|12052ac6aa067434388199224c0f11bc|f82d1df095bf073a1298faed123b844b|7ff588a03c2aeae4fbd23f9ae64b760d|c0fc7711dd6c18600d83a5420d0e010b|delivered   |2018-07-31 13:16:33     |2018-07-31 13:25:25|2018-07-31 12:51:00         |2018-08-09 21:15:51          |2018-08-28 00:00:00          |2018|7    |31 |1            |2018-08-06 13:25:25|89.99|27.58        |automotivo                   |60                 |951                       |4                 |600             |19               |16               |18              |7183                  |guarulhos       |SP          |cac4417e011d1b0b40bc97d3259cf6c9|44950                   |uibai                  |BA            |2            |4           |117.57     |62.41              |9            |\n",
      "|d1ee985bf7378b46fd1058b35c8132da|7bd970d498ab2a1515d5d0095bb7cbc1|7d13fca15225358621be4086e1eb0964|11182511f8556822085ea032df785dae|delivered   |2018-08-07 18:18:47     |2018-08-09 03:44:53|2018-08-10 17:15:00         |2018-08-20 23:36:56          |2018-09-20 00:00:00          |2018|8    |7  |1            |2018-08-20 03:44:53|96.58|22.61        |eletronicos                  |35                 |615                       |1                 |347             |18               |12               |13              |14050                 |ribeirao preto  |SP          |e20efa8fdaf5bbd3780b29d52eb6172e|45160                   |belo campo             |BA            |1            |5           |119.19     |73.97              |13           |\n",
      "|0420da8d50a3784011290a782f25a8a8|0949b5cf9adad08c1421aa3f1778e4a3|406822777a0b9eb5c50e442dd4cd3ec5|5ca739ddd646d1ba53cca4e3c099a953|delivered   |2018-08-09 16:42:43     |2018-08-09 17:35:18|2018-08-13 12:48:00         |2018-08-16 19:45:47          |2018-08-21 00:00:00          |2018|8    |9  |1            |2018-08-13 17:35:18|59.9 |14.73        |brinquedos                   |49                 |892                       |2                 |1200            |52               |13               |37              |18500                 |tatui           |SP          |ab2731479851fc8019caa384772a2a0b|13563                   |sao carlos             |SP            |1            |5           |74.63      |45.17              |7            |\n",
      "|c4045d70da44ecbef2afb4407592fe90|9be4488544e1d864a50f80fcfec66efd|8ae520247981aa06bc94abddf5f46d34|5ede6e418a361cb82ecd118bfe83ca2d|delivered   |2018-05-10 17:53:13     |2018-05-11 14:16:17|2018-05-11 13:26:00         |2018-05-18 22:04:46          |2018-06-07 00:00:00          |2018|5    |10 |1            |2018-05-15 14:16:17|169.0|37.87        |relogios_presentes           |44                 |483                       |4                 |350             |16               |12               |12              |88370                 |navegantes      |SC          |0d153268371aa25450d4117ff070277e|29314                   |cachoeiro de itapemirim|ES            |5            |4           |206.87     |131.13             |8            |\n",
      "|c6b834f817f95bd7f31d78814dbb14ac|8cb472ad4da26b59f50a5fa1194d47b7|2e13c71026e1a39ba5cc1b86dcb679aa|2feb7008fdbbf5e65a885a1e5fbd49d1|delivered   |2018-05-08 18:42:08     |2018-05-10 04:16:37|2018-05-15 13:04:00         |2018-05-16 17:13:11          |2018-05-16 00:00:00          |2018|5    |8  |1            |2018-05-14 04:16:37|190.0|13.23        |esporte_lazer                |33                 |2490                      |5                 |1350            |30               |20               |20              |2265                  |sao paulo       |SP          |94e8e9f7feacb6478fa2b9c6b3293749|9181                    |santo andre            |SP            |1            |5           |203.23     |176.77             |8            |\n",
      "|db7059aeda4a4b33b40700c87731ae15|c5e87e44425d8b1adc3650af46744779|9f505651f4a6abe901a56cdc21508025|d33a74e1b6cfc152b6b3f43324d54987|delivered   |2018-06-06 01:54:04     |2018-06-06 02:13:09|2018-06-06 12:34:00         |2018-06-16 17:14:37          |2018-07-17 00:00:00          |2018|6    |6  |1            |2018-06-14 02:13:09|14.99|17.06        |informatica_acessorios       |56                 |366                       |1                 |350             |27               |4                |34              |4102                  |sao paulo       |SP          |7ff3d446d58b6f67d967ada4a38e29de|40285                   |salvador               |BA            |3            |5           |32.05      |-2.0699999999999985|10           |\n",
      "|f07e5e978651bb48927a71ab7f56f2c8|ae447e76e331a2d1fb37473deb2ccae0|6b243f80ed07b10f0e8aa0f21a205f3c|4073784877d08fbd075c0dd3e1bff5de|delivered   |2018-08-21 20:05:40     |2018-08-21 20:24:16|2018-08-22 15:19:00         |2018-08-24 22:38:47          |2018-09-04 00:00:00          |2018|8    |21 |1            |2018-08-23 20:24:16|24.9 |15.27        |esporte_lazer                |52                 |1392                      |1                 |250             |16               |16               |16              |81825                 |curitiba        |PR          |4412ff92330051eb18b7aa95d9d172e7|8790                    |mogi das cruzes        |SP            |1            |5           |40.17      |9.629999999999999  |3            |\n",
      "|358062b4847c9e2ce76ba4895d0f6625|e139948a02a65f3d63dca4169cd990b8|76d64c4aca3a7baf218bf93ef7fa768d|5f3a6b9196dde7e3702ec07bbdd34fab|delivered   |2018-06-18 09:30:44     |2018-06-18 09:53:49|2018-06-19 16:18:00         |2018-06-22 18:26:51          |2018-07-17 00:00:00          |2018|6    |18 |1            |2018-06-20 09:53:49|117.0|23.62        |industria_comercio_e_negocios|58                 |1497                      |1                 |950             |30               |20               |30              |80215                 |curitiba        |PR          |6a9e15d6fa8ce1cabf193c21aa577f64|12600                   |lorena                 |SP            |1            |5           |140.62     |93.38              |4            |\n",
      "+--------------------------------+--------------------------------+--------------------------------+--------------------------------+------------+------------------------+-------------------+----------------------------+-----------------------------+-----------------------------+----+-----+---+-------------+-------------------+-----+-------------+-----------------------------+-------------------+--------------------------+------------------+----------------+-----------------+-----------------+----------------+----------------------+----------------+------------+--------------------------------+------------------------+-----------------------+--------------+-------------+------------+-----------+-------------------+-------------+\n",
      "only showing top 10 rows\n"
     ]
    },
    {
     "name": "stderr",
     "output_type": "stream",
     "text": [
      "                                                                                "
     ]
    }
   ],
   "source": [
    "silver_df.select(\"*\").show(10, truncate=False)\n"
   ]
  },
  {
   "cell_type": "code",
   "execution_count": null,
   "id": "9d227040-e263-4bf2-9e1d-287524916b02",
   "metadata": {},
   "outputs": [],
   "source": []
  }
 ],
 "metadata": {
  "kernelspec": {
   "display_name": "Python (data_pipeline)",
   "language": "python",
   "name": "data_pipeline"
  },
  "language_info": {
   "codemirror_mode": {
    "name": "ipython",
    "version": 3
   },
   "file_extension": ".py",
   "mimetype": "text/x-python",
   "name": "python",
   "nbconvert_exporter": "python",
   "pygments_lexer": "ipython3",
   "version": "3.10.18"
  }
 },
 "nbformat": 4,
 "nbformat_minor": 5
}
