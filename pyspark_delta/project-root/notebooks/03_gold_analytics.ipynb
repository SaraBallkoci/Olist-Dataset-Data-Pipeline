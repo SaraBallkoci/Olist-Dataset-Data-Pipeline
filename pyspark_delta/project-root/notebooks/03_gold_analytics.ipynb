{
 "cells": [
  {
   "cell_type": "code",
   "execution_count": 2,
   "id": "aecddd7b-d408-4ff5-ab3b-0bf8f0a91dc5",
   "metadata": {},
   "outputs": [
    {
     "name": "stderr",
     "output_type": "stream",
     "text": [
      "WARNING: Using incubator modules: jdk.incubator.vector\n",
      ":: loading settings :: url = jar:file:/home/saraballkoci/miniconda3/envs/data_pipeline/lib/python3.10/site-packages/pyspark/jars/ivy-2.5.3.jar!/org/apache/ivy/core/settings/ivysettings.xml\n",
      "Ivy Default Cache set to: /home/saraballkoci/.ivy2.5.2/cache\n",
      "The jars for the packages stored in: /home/saraballkoci/.ivy2.5.2/jars\n",
      "io.delta#delta-spark_2.13 added as a dependency\n",
      ":: resolving dependencies :: org.apache.spark#spark-submit-parent-ad96033c-3135-4238-b303-b22d136e52b4;1.0\n",
      "\tconfs: [default]\n",
      "\tfound io.delta#delta-spark_2.13;4.0.0 in central\n",
      "\tfound io.delta#delta-storage;4.0.0 in central\n",
      "\tfound org.antlr#antlr4-runtime;4.13.1 in central\n",
      ":: resolution report :: resolve 815ms :: artifacts dl 54ms\n",
      "\t:: modules in use:\n",
      "\tio.delta#delta-spark_2.13;4.0.0 from central in [default]\n",
      "\tio.delta#delta-storage;4.0.0 from central in [default]\n",
      "\torg.antlr#antlr4-runtime;4.13.1 from central in [default]\n",
      "\t---------------------------------------------------------------------\n",
      "\t|                  |            modules            ||   artifacts   |\n",
      "\t|       conf       | number| search|dwnlded|evicted|| number|dwnlded|\n",
      "\t---------------------------------------------------------------------\n",
      "\t|      default     |   3   |   0   |   0   |   0   ||   3   |   0   |\n",
      "\t---------------------------------------------------------------------\n",
      ":: retrieving :: org.apache.spark#spark-submit-parent-ad96033c-3135-4238-b303-b22d136e52b4\n",
      "\tconfs: [default]\n",
      "\t0 artifacts copied, 3 already retrieved (0kB/44ms)\n",
      "25/06/28 21:44:08 WARN NativeCodeLoader: Unable to load native-hadoop library for your platform... using builtin-java classes where applicable\n",
      "Using Spark's default log4j profile: org/apache/spark/log4j2-defaults.properties\n",
      "Setting default log level to \"WARN\".\n",
      "To adjust logging level use sc.setLogLevel(newLevel). For SparkR, use setLogLevel(newLevel).\n",
      "/home/saraballkoci/miniconda3/envs/data_pipeline/lib/python3.10/site-packages/numpy/_core/getlimits.py:551: UserWarning: Signature b'\\x00\\xd0\\xcc\\xcc\\xcc\\xcc\\xcc\\xcc\\xfb\\xbf\\x00\\x00\\x00\\x00\\x00\\x00' for <class 'numpy.longdouble'> does not match any known type: falling back to type probe function.\n",
      "This warnings indicates broken support for the dtype!\n",
      "  machar = _get_machar(dtype)\n"
     ]
    }
   ],
   "source": [
    "from pyspark.sql import SparkSession\n",
    "from delta import configure_spark_with_delta_pip\n",
    "\n",
    "builder = SparkSession.builder \\\n",
    "    .appName(\"Olist Analytics\") \\\n",
    "    .config(\"spark.sql.extensions\", \"io.delta.sql.DeltaSparkSessionExtension\") \\\n",
    "    .config(\"spark.sql.catalog.spark_catalog\", \"org.apache.spark.sql.delta.catalog.DeltaCatalog\")\n",
    "\n",
    "spark = configure_spark_with_delta_pip(builder).getOrCreate()\n"
   ]
  },
  {
   "cell_type": "code",
   "execution_count": 5,
   "id": "b9326393-ad23-4905-b106-e0b2ef79f928",
   "metadata": {},
   "outputs": [],
   "source": [
    "from pyspark.sql.functions import sum, to_timestamp, year, month, dayofmonth\n",
    "from pyspark.sql.window import Window\n",
    "\n",
    "\n",
    "silver_df = spark.read.format(\"delta\").load(\"../delta/silver/orders_enriched\")\n",
    "\n",
    "\n",
    "window_spec = Window.partitionBy(\"customer_id\").orderBy(\"order_purchase_timestamp\").rowsBetween(Window.unboundedPreceding, Window.currentRow)\n",
    "\n",
    "cumulative_sales = silver_df \\\n",
    "    .withColumn(\"cumulative_total\",sum(\"total_price\").over(window_spec)) \\\n",
    "    .withColumn(\"year\", year(\"order_purchase_timestamp\")) \\\n",
    "    .withColumn(\"month\", month(\"order_purchase_timestamp\")) \\\n",
    "    .withColumn(\"day\", dayofmonth(\"order_purchase_timestamp\"))\n"
   ]
  },
  {
   "cell_type": "code",
   "execution_count": 6,
   "id": "58e5b84a-e77e-41b4-b320-c29cbb7485e4",
   "metadata": {},
   "outputs": [],
   "source": [
    "from pyspark.sql.functions import sum,avg, to_timestamp, year, month, dayofmonth\n",
    "from pyspark.sql.window import Window\n",
    "\n",
    "rolling_window = Window.partitionBy(\"product_category_name\") \\\n",
    "                       .orderBy(\"order_purchase_timestamp\") \\\n",
    "                       .rowsBetween(-2, 0)\n",
    "\n",
    "rolling_avg_delivery = silver_df \\\n",
    "    .withColumn(\"rolling_avg_delivery_time\", avg(\"delivery_time\").over(rolling_window)) \\\n",
    "    .withColumn(\"year\", year(\"order_purchase_timestamp\")) \\\n",
    "    .withColumn(\"month\", month(\"order_purchase_timestamp\")) \\\n",
    "    .withColumn(\"day\", dayofmonth(\"order_purchase_timestamp\"))\n"
   ]
  },
  {
   "cell_type": "code",
   "execution_count": 8,
   "id": "c29483d4-035b-4fdd-8bdd-e2013b9edde7",
   "metadata": {},
   "outputs": [],
   "source": [
    "from pyspark.sql.functions import year, month, dayofmonth, sum, count\n",
    "\n",
    "silver_df = silver_df.withColumn(\"year\", year(\"order_purchase_timestamp\")) \\\n",
    "                     .withColumn(\"month\", month(\"order_purchase_timestamp\")) \\\n",
    "                     .withColumn(\"day\", dayofmonth(\"order_purchase_timestamp\"))\n",
    "\n",
    "kpi_summary = silver_df.groupBy(\n",
    "    \"product_category_name\", \"seller_id\", \"customer_state\", \"year\", \"month\", \"day\"\n",
    ").agg(sum(\"total_price\").alias(\"total_sales\"),\n",
    "    avg(\"delivery_time\").alias(\"avg_delivery_time\"),\n",
    "    count(\"order_id\").alias(\"order_count\")\n",
    ")\n"
   ]
  },
  {
   "cell_type": "code",
   "execution_count": 9,
   "id": "e4aef463-acf1-42e1-80db-cafff2e0aecc",
   "metadata": {},
   "outputs": [
    {
     "name": "stderr",
     "output_type": "stream",
     "text": [
      "25/06/28 21:49:51 WARN SparkStringUtils: Truncated the string representation of a plan since it was too large. This behavior can be adjusted by setting 'spark.sql.debug.maxToStringFields'.\n",
      "                                                                                "
     ]
    }
   ],
   "source": [
    "from pyspark.sql.functions import sum,avg, to_timestamp, year, month, dayofmonth\n",
    "\n",
    "\n",
    "\n",
    "cumulative_sales.write.format(\"delta\").mode(\"overwrite\").partitionBy(\"year\", \"month\", \"day\").save(\"../delta/gold/cumulative_sales\")\n",
    "\n",
    "\n",
    "rolling_avg_delivery.write.format(\"delta\").mode(\"overwrite\").partitionBy(\"year\", \"month\", \"day\").save(\"../delta/gold/rolling_avg_delivery\")\n",
    "\n",
    "\n",
    "kpi_summary.write.format(\"delta\").mode(\"overwrite\").partitionBy(\"year\", \"month\", \"day\").save(\"../delta/gold/kpi_summary\")\n"
   ]
  },
  {
   "cell_type": "code",
   "execution_count": 10,
   "id": "d1c83bfd-9f40-4318-a4ae-120a5c255808",
   "metadata": {},
   "outputs": [
    {
     "name": "stderr",
     "output_type": "stream",
     "text": [
      "                                                                                "
     ]
    },
    {
     "name": "stdout",
     "output_type": "stream",
     "text": [
      "+--------------------+--------------------+--------------------+--------------------+------------+------------------------+-------------------+----------------------------+-----------------------------+-----------------------------+----+-----+---+-------------+-------------------+------+-------------+---------------------+-------------------+--------------------------+------------------+----------------+-----------------+-----------------+----------------+----------------------+-------------------+------------+--------------------+------------------------+-------------------+--------------+-------------+------------+-----------------+------------------+-------------+-----------------+\n",
      "|            order_id|         customer_id|           seller_id|          product_id|order_status|order_purchase_timestamp|  order_approved_at|order_delivered_carrier_date|order_delivered_customer_date|order_estimated_delivery_date|year|month|day|order_item_id|shipping_limit_date| price|freight_value|product_category_name|product_name_lenght|product_description_lenght|product_photos_qty|product_weight_g|product_length_cm|product_height_cm|product_width_cm|seller_zip_code_prefix|        seller_city|seller_state|  customer_unique_id|customer_zip_code_prefix|      customer_city|customer_state|payment_count|review_score|      total_price|     profit_margin|delivery_time| cumulative_total|\n",
      "+--------------------+--------------------+--------------------+--------------------+------------+------------------------+-------------------+----------------------------+-----------------------------+-----------------------------+----+-----+---+-------------+-------------------+------+-------------+---------------------+-------------------+--------------------------+------------------+----------------+-----------------+-----------------+----------------+----------------------+-------------------+------------+--------------------+------------------------+-------------------+--------------+-------------+------------+-----------------+------------------+-------------+-----------------+\n",
      "|4ed7a5d31f58c9c3b...|0013cd8e350a7cc76...|0241d4d5d36f10f80...|d03bd02af9fff4b98...|   delivered|     2018-05-07 23:25:09|2018-05-08 21:11:37|         2018-05-09 15:21:00|          2018-05-12 15:44:57|          2018-05-25 00:00:00|2018|    5|  7|            1|2018-05-13 21:11:37|  79.9|         12.7|     moveis_decoracao|                 56|                       209|                 1|            1800|               40|               10|              30|                 80330|           curitiba|          PR|334fed5abcee3aa96...|                    3585|          sao paulo|            SP|            9|           5|92.60000000000001|              67.2|            5|92.60000000000001|\n",
      "|40e61df3e13139ca0...|0015bc9fd2d539544...|18a349e75d307f4b4...|81227b918dc751995...|   delivered|     2018-06-11 19:48:34|2018-06-11 20:22:45|         2018-06-12 16:36:00|          2018-06-14 10:18:20|          2018-06-26 00:00:00|2018|    6| 11|            1|2018-06-18 20:22:45|122.99|          9.2|       telefonia_fixa|                 53|                      1265|                 1|             750|               27|               12|              27|                  1319|          sao paulo|          SP|490c854539b21598c...|                   12233|sao jose dos campos|            SP|            2|           5|           132.19|113.78999999999999|            3|           132.19|\n",
      "|378d1ac3d8e22dd46...|001df1ee5c36767aa...|52a50b42accf164f9...|ba4d4408f422ce8b4...|   delivered|     2018-08-05 23:14:45|2018-08-05 23:30:13|         2018-08-07 11:21:00|          2018-08-10 18:52:44|          2018-08-10 00:00:00|2018|    8|  5|            1|2018-08-07 23:30:13| 29.99|        12.87|    alimentos_bebidas|                 38|                       916|                 1|             300|               21|               10|              15|                 13820|monte alegre do sul|          SP|46b44ab325f78e5bb...|                    1030|          sao paulo|            SP|            2|           4|            42.86|17.119999999999997|            5|            42.86|\n",
      "|e531f04ac27aac6bf...|0028ff36263a86bf6...|855668e0971d4dfd7...|685919d3ededc26c0...|   delivered|     2018-04-12 17:16:49|2018-04-13 02:15:26|         2018-04-18 21:56:39|          2018-05-08 23:08:59|          2018-05-10 00:00:00|2018|    4| 12|            1|2018-04-19 02:15:26|  52.0|        22.94|                bebes|                 48|                      1369|                 2|            6850|               48|               25|              34|                 13257|            itatiba|          SP|0659763dba9821af4...|                   28895|     rio das ostras|            RJ|            1|           1|            74.94|             29.06|           26|            74.94|\n",
      "|e4c77eec895c98ee6...|002a10e899b62a460...|e5e33c0d8e7e002f3...|1ffe0f57d9bad302d...|   delivered|     2018-05-05 18:33:24|2018-05-05 18:53:44|         2018-05-07 12:43:00|          2018-05-09 00:06:25|          2018-05-23 00:00:00|2018|    5|  5|            1|2018-05-10 18:53:44|  78.9|        13.91|           automotivo|                 59|                      1391|                 3|            1700|               34|               18|              16|                 17032|              bauru|          SP|660e4e077b40d477e...|                   18650|         sao manuel|            SP|            1|           5|            92.81| 64.99000000000001|            4|            92.81|\n",
      "+--------------------+--------------------+--------------------+--------------------+------------+------------------------+-------------------+----------------------------+-----------------------------+-----------------------------+----+-----+---+-------------+-------------------+------+-------------+---------------------+-------------------+--------------------------+------------------+----------------+-----------------+-----------------+----------------+----------------------+-------------------+------------+--------------------+------------------------+-------------------+--------------+-------------+------------+-----------------+------------------+-------------+-----------------+\n",
      "only showing top 5 rows\n"
     ]
    },
    {
     "name": "stderr",
     "output_type": "stream",
     "text": [
      "                                                                                "
     ]
    },
    {
     "name": "stdout",
     "output_type": "stream",
     "text": [
      "+--------------------+--------------------+--------------------+--------------------+------------+------------------------+-------------------+----------------------------+-----------------------------+-----------------------------+----+-----+---+-------------+-------------------+------+-------------+---------------------+-------------------+--------------------------+------------------+----------------+-----------------+-----------------+----------------+----------------------+--------------+------------+--------------------+------------------------+--------------------+--------------+-------------+------------+-----------+-----------------+-------------+-------------------------+\n",
      "|            order_id|         customer_id|           seller_id|          product_id|order_status|order_purchase_timestamp|  order_approved_at|order_delivered_carrier_date|order_delivered_customer_date|order_estimated_delivery_date|year|month|day|order_item_id|shipping_limit_date| price|freight_value|product_category_name|product_name_lenght|product_description_lenght|product_photos_qty|product_weight_g|product_length_cm|product_height_cm|product_width_cm|seller_zip_code_prefix|   seller_city|seller_state|  customer_unique_id|customer_zip_code_prefix|       customer_city|customer_state|payment_count|review_score|total_price|    profit_margin|delivery_time|rolling_avg_delivery_time|\n",
      "+--------------------+--------------------+--------------------+--------------------+------------+------------------------+-------------------+----------------------------+-----------------------------+-----------------------------+----+-----+---+-------------+-------------------+------+-------------+---------------------+-------------------+--------------------------+------------------+----------------+-----------------+-----------------+----------------+----------------------+--------------+------------+--------------------+------------------------+--------------------+--------------+-------------+------------+-----------+-----------------+-------------+-------------------------+\n",
      "|430bd310105f069ac...|815e5251945f96c68...|403aa86912527d730...|9cf421049bcfaf698...|   delivered|     2017-09-04 18:09:28|2017-09-04 18:24:00|         2017-09-05 21:34:13|          2017-09-12 19:02:48|          2017-09-26 00:00:00|2017|    9|  4|            1|2017-09-11 18:24:00|299.99|        17.86|                artes|                 59|                      2165|                 2|             600|               20|               10|              15|                 30220|belo horizonte|          MG|432ee7edf0be5950f...|                   13236|campo limpo paulista|            SP|            6|           1|     317.85|           282.13|            8|                      8.0|\n",
      "|18c6d9e50c997847a...|ed110cb97194f4281...|7139dc5186aa238b0...|d727c091d4ce7f59b...|   delivered|     2018-04-15 17:21:16|2018-04-15 17:30:38|         2018-04-18 00:03:57|          2018-04-21 15:57:32|          2018-05-09 00:00:00|2018|    4| 15|            1|2018-04-19 17:30:36|  57.0|        14.49|                artes|                 54|                       798|                 1|            1100|               22|               16|              21|                 13901|        amparo|          SP|ca0e20ade97bc7514...|                   13214|             jundiai|            SP|            1|           5|      71.49|            42.51|            6|                      7.0|\n",
      "|8fda9273c38415c07...|f2bbc389bab7bc896...|8090490573c6c0aa3...|bf359473d58e90d8f...|   delivered|     2018-04-25 11:43:29|2018-04-25 11:55:17|         2018-04-26 08:53:00|          2018-05-02 16:36:45|          2018-05-23 00:00:00|2018|    4| 25|            1|2018-05-02 11:55:17|  48.9|        15.23|                artes|                 37|                       606|                 1|             350|               28|                4|              22|                  4130|sao paulo - sp|          SP|1371f85d096a94c49...|                   35740|          esmeraldas|            MG|            1|           5|      64.13|            33.67|            7|                      7.0|\n",
      "|d3f1f35c8583aa166...|8a575e5343c252cd7...|c31eff8334d6b3047...|4fe644d766c7566db...|   delivered|     2018-04-28 14:15:37|2018-04-28 14:30:36|         2018-05-02 19:01:00|          2018-05-03 14:36:57|          2018-05-11 00:00:00|2018|    4| 28|            1|2018-05-04 14:30:32| 99.99|        11.79|                artes|                 48|                      1232|                 1|            1700|               65|                6|              50|                 13322|         salto|          SP|b2d510691258f3d69...|                   12227| sao jose dos campos|            SP|            1|           5|     111.78|88.19999999999999|            5|                      6.0|\n",
      "|493d1ad7e1ae4e8a6...|40291ba05fac951d2...|c31eff8334d6b3047...|4fe644d766c7566db...|   delivered|     2018-04-30 00:00:01|2018-04-30 00:25:27|         2018-05-03 19:01:00|          2018-05-04 13:12:22|          2018-05-11 00:00:00|2018|    4| 30|            1|2018-05-07 00:25:27| 99.99|        12.03|                artes|                 48|                      1232|                 1|            1700|               65|                6|              50|                 13322|         salto|          SP|9fd4eb329cf497c6b...|                    3028|           sao paulo|            SP|            1|           4|     112.02|            87.96|            4|        5.333333333333333|\n",
      "+--------------------+--------------------+--------------------+--------------------+------------+------------------------+-------------------+----------------------------+-----------------------------+-----------------------------+----+-----+---+-------------+-------------------+------+-------------+---------------------+-------------------+--------------------------+------------------+----------------+-----------------+-----------------+----------------+----------------------+--------------+------------+--------------------+------------------------+--------------------+--------------+-------------+------------+-----------+-----------------+-------------+-------------------------+\n",
      "only showing top 5 rows\n"
     ]
    },
    {
     "name": "stderr",
     "output_type": "stream",
     "text": [
      "[Stage 57:=================================================>      (15 + 2) / 17]"
     ]
    },
    {
     "name": "stdout",
     "output_type": "stream",
     "text": [
      "+---------------------+--------------------+--------------+----+-----+---+-----------+-----------------+-----------+\n",
      "|product_category_name|           seller_id|customer_state|year|month|day|total_sales|avg_delivery_time|order_count|\n",
      "+---------------------+--------------------+--------------+----+-----+---+-----------+-----------------+-----------+\n",
      "|          eletronicos|14a08204d03bb6b6b...|            MG|2018|    8|  7|       50.6|              2.0|          1|\n",
      "|        esporte_lazer|921323538c9f1c4e8...|            SP|2018|    5|  2|      66.58|              2.0|          2|\n",
      "|           automotivo|e5e33c0d8e7e002f3...|            RJ|2018|    6|  7|      396.9|              4.0|          1|\n",
      "|           cool_stuff|4869f7a5dfa277a7d...|            SP|2018|    4| 30|     199.91|              8.0|          1|\n",
      "|      cama_mesa_banho|9aa388272ee334b6a...|            BA|2018|    8| 17|      178.0|              6.0|          1|\n",
      "+---------------------+--------------------+--------------+----+-----+---+-----------+-----------------+-----------+\n",
      "only showing top 5 rows\n"
     ]
    },
    {
     "name": "stderr",
     "output_type": "stream",
     "text": [
      "                                                                                "
     ]
    }
   ],
   "source": [
    "cumulative_sales.show(5)\n",
    "rolling_avg_delivery.show(5)\n",
    "kpi_summary.show(5)"
   ]
  },
  {
   "cell_type": "code",
   "execution_count": 10,
   "id": "04b24d92-94de-4f64-a9a8-bf1d0a8fe196",
   "metadata": {},
   "outputs": [],
   "source": [
    "\n",
    "cumulative_sales = spark.read.format(\"delta\").load(\"../delta/gold/cumulative_sales\")\n",
    "rolling_avg_delivery = spark.read.format(\"delta\").load(\"../delta/gold/rolling_avg_delivery\")\n",
    "kpi_summary = spark.read.format(\"delta\").load(\"../delta/gold/kpi_summary\")\n"
   ]
  },
  {
   "cell_type": "code",
   "execution_count": 11,
   "id": "552b3f24-fb17-409c-83c0-72a4bd79ac80",
   "metadata": {},
   "outputs": [],
   "source": [
    "\n",
    "cumulative_sales.createOrReplaceTempView(\"cumulative_sales\")\n",
    "rolling_avg_delivery.createOrReplaceTempView(\"rolling_avg_delivery\")\n",
    "kpi_summary.createOrReplaceTempView(\"kpi_summary\")\n"
   ]
  },
  {
   "cell_type": "code",
   "execution_count": 12,
   "id": "5ba9e624-d698-44e3-bb00-9b65105617e5",
   "metadata": {},
   "outputs": [
    {
     "name": "stderr",
     "output_type": "stream",
     "text": [
      "                                                                                "
     ]
    },
    {
     "name": "stdout",
     "output_type": "stream",
     "text": [
      "+---------------------------------+-----------+\n",
      "|product_category_name            |total_sales|\n",
      "+---------------------------------+-----------+\n",
      "|relogios_presentes               |171906.7   |\n",
      "|beleza_saude                     |146353.44  |\n",
      "|cama_mesa_banho                  |116902.36  |\n",
      "|utilidades_domesticas            |102508.33  |\n",
      "|automotivo                       |87831.31   |\n",
      "|esporte_lazer                    |85452.98   |\n",
      "|moveis_decoracao                 |79336.71   |\n",
      "|informatica_acessorios           |75848.5    |\n",
      "|ferramentas_jardim               |48234.9    |\n",
      "|bebes                            |47162.35   |\n",
      "|telefonia                        |42180.17   |\n",
      "|brinquedos                       |41479.78   |\n",
      "|cool_stuff                       |40750.48   |\n",
      "|moveis_escritorio                |37010.85   |\n",
      "|perfumaria                       |36607.99   |\n",
      "|pet_shop                         |33189.95   |\n",
      "|construcao_ferramentas_construcao|30726.47   |\n",
      "|eletronicos                      |22457.77   |\n",
      "|papelaria                        |22216.36   |\n",
      "|pcs                              |22210.39   |\n",
      "+---------------------------------+-----------+\n",
      "only showing top 20 rows\n"
     ]
    },
    {
     "name": "stderr",
     "output_type": "stream",
     "text": [
      "                                                                                "
     ]
    },
    {
     "name": "stdout",
     "output_type": "stream",
     "text": [
      "+--------------------------------+-----------------+\n",
      "|seller_id                       |avg_delivery_time|\n",
      "+--------------------------------+-----------------+\n",
      "|734def04b237117a09321dd6d8f3f2a2|1.0              |\n",
      "|cf654707ed6a99f112c7ec3d6f314b8b|1.0              |\n",
      "|655220df33262c7e0c4949a147366f94|1.0              |\n",
      "|ae45df84722b1d15c5f32b23a095746c|1.0              |\n",
      "|b2a6d334e2833acea353624840e25a0e|1.0              |\n",
      "|6561d6bf844e464b4019442692b40e02|1.0              |\n",
      "|30a81d8cf85fb2ada1b1b094c9583a95|1.5              |\n",
      "|0ddefe3c7a032b91f4e25b9c3a08fca1|2.0              |\n",
      "|70126eecc6aa1274392a1743866e9678|2.0              |\n",
      "|099095b050cfe8eb1ddff5317587e96e|2.0              |\n",
      "|e5cbe890e679490127e9a390b46bbd20|2.0              |\n",
      "|a06c8ff043abea0528ee44171e2140a2|2.0              |\n",
      "|5f1dc28029d2c244352a68107ec2b542|2.0              |\n",
      "|c89cf7c468a48af70aada384e722f9e2|2.0              |\n",
      "|e88165a185134e13fdfc85d4fa654db8|2.0              |\n",
      "|d9e8c084b68fe958861d8f2c21202e6b|2.0              |\n",
      "|26562f211dd1364af2a8596dc945e8ae|2.0              |\n",
      "|365e4bce19bda0082c3d15d83fdb8bcd|2.0              |\n",
      "|20d83f3ef0e6925fd74bfd59170babf7|2.0              |\n",
      "|334cab711dee080b079fa5779b584783|2.0              |\n",
      "+--------------------------------+-----------------+\n",
      "only showing top 20 rows\n"
     ]
    },
    {
     "name": "stderr",
     "output_type": "stream",
     "text": [
      "[Stage 39:=================================================>        (6 + 1) / 7]"
     ]
    },
    {
     "name": "stdout",
     "output_type": "stream",
     "text": [
      "+--------------+------------+\n",
      "|customer_state|total_orders|\n",
      "+--------------+------------+\n",
      "|SP            |4386        |\n",
      "|RJ            |1216        |\n",
      "|MG            |1098        |\n",
      "|RS            |456         |\n",
      "|PR            |440         |\n",
      "|BA            |397         |\n",
      "|SC            |335         |\n",
      "|DF            |231         |\n",
      "|ES            |217         |\n",
      "|GO            |208         |\n",
      "|PE            |206         |\n",
      "|CE            |139         |\n",
      "|MT            |122         |\n",
      "|PA            |115         |\n",
      "|MS            |88          |\n",
      "|PB            |69          |\n",
      "|PI            |64          |\n",
      "|RN            |63          |\n",
      "|MA            |53          |\n",
      "|SE            |43          |\n",
      "+--------------+------------+\n",
      "only showing top 20 rows\n"
     ]
    },
    {
     "name": "stderr",
     "output_type": "stream",
     "text": [
      "                                                                                "
     ]
    }
   ],
   "source": [
    "spark.sql(\"\"\"\n",
    "    SELECT product_category_name, ROUND(SUM(total_sales), 2) AS total_sales\n",
    "    FROM kpi_summary\n",
    "    GROUP BY product_category_name\n",
    "    ORDER BY total_sales DESC\n",
    "\"\"\").show(truncate=False)\n",
    "\n",
    "spark.sql(\"\"\"\n",
    "    SELECT seller_id, ROUND(AVG(avg_delivery_time), 2) AS avg_delivery_time\n",
    "    FROM kpi_summary\n",
    "    GROUP BY seller_id\n",
    "    ORDER BY avg_delivery_time ASC\n",
    "\"\"\").show(truncate=False)\n",
    "\n",
    "\n",
    "spark.sql(\"\"\"\n",
    "    SELECT customer_state, SUM(order_count) AS total_orders\n",
    "    FROM kpi_summary\n",
    "    GROUP BY customer_state\n",
    "    ORDER BY total_orders DESC\n",
    "\"\"\").show(truncate=False)\n"
   ]
  },
  {
   "cell_type": "code",
   "execution_count": null,
   "id": "88ef8f8e-7f2f-433e-bd03-0e2c7c63734a",
   "metadata": {},
   "outputs": [],
   "source": []
  }
 ],
 "metadata": {
  "kernelspec": {
   "display_name": "Python (data_pipeline)",
   "language": "python",
   "name": "data_pipeline"
  },
  "language_info": {
   "codemirror_mode": {
    "name": "ipython",
    "version": 3
   },
   "file_extension": ".py",
   "mimetype": "text/x-python",
   "name": "python",
   "nbconvert_exporter": "python",
   "pygments_lexer": "ipython3",
   "version": "3.10.18"
  }
 },
 "nbformat": 4,
 "nbformat_minor": 5
}
